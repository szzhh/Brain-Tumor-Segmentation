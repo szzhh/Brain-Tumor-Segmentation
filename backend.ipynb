{
 "cells": [
  {
   "cell_type": "code",
   "execution_count": 1,
   "metadata": {},
   "outputs": [],
   "source": [
    "import requests\n",
    "import json"
   ]
  },
  {
   "cell_type": "markdown",
   "metadata": {},
   "source": [
    "# 查询"
   ]
  },
  {
   "cell_type": "code",
   "execution_count": 5,
   "metadata": {},
   "outputs": [
    {
     "data": {
      "text/plain": [
       "{'status': True,\n",
       " 'msg': '查询成功！',\n",
       " 'user_info': {'account': '熊猫头',\n",
       "  'name': '孙重豪',\n",
       "  'uid': 'd0',\n",
       "  'age': None,\n",
       "  'patients': [{'account': 'zhangsan123',\n",
       "    'name': '张三三',\n",
       "    'age': 20,\n",
       "    'uid': 'p0',\n",
       "    'doctor': '孙重豪',\n",
       "    'TumorVolumn_1': '151540',\n",
       "    'TumorVolumn_2': '22924',\n",
       "    'TumorVolumn_3': '20699',\n",
       "    'Segemented': True}]}}"
      ]
     },
     "execution_count": 5,
     "metadata": {},
     "output_type": "execute_result"
    }
   ],
   "source": [
    "r = requests.post('http://172.24.21.239:5000/query', json={'account_type': 'doctor', 'uid': 'd0'})\n",
    "r.text\n",
    "j=json.loads(r.text)\n",
    "j"
   ]
  },
  {
   "cell_type": "markdown",
   "metadata": {},
   "source": [
    "# 查询已有账号"
   ]
  },
  {
   "cell_type": "code",
   "execution_count": 32,
   "metadata": {},
   "outputs": [
    {
     "name": "stdout",
     "output_type": "stream",
     "text": [
      "1 、 熊猫头 孙重豪 d0\n",
      "2 、 熊猫头1 王旭东 d1\n"
     ]
    }
   ],
   "source": [
    "r = requests.post('http://172.24.21.239:5000/query_all')\n",
    "n=0\n",
    "for item in r.json()['query_ans']:\n",
    "    n+=1\n",
    "    print(n,'、',item['account'],item['name'],item['uid'])\n"
   ]
  },
  {
   "cell_type": "markdown",
   "metadata": {},
   "source": [
    "# 删除账号"
   ]
  },
  {
   "cell_type": "code",
   "execution_count": null,
   "metadata": {},
   "outputs": [],
   "source": [
    "r = requests.post('http://172.24.21.239:5000/delete', json={'account_type': 'doctor', 'uid': 'd1'})\n",
    "r.json()"
   ]
  },
  {
   "cell_type": "markdown",
   "metadata": {},
   "source": [
    "# 云端下载"
   ]
  },
  {
   "cell_type": "code",
   "execution_count": 15,
   "metadata": {},
   "outputs": [],
   "source": [
    "r = requests.get('http://172.24.21.239:5000/download/p1/t1')\n",
    "with open('D:/AI/Brain-Tumor-Segmentation/imgs/TEMP.nii.gz', 'wb') as f:\n",
    "    f.write(r.content)"
   ]
  },
  {
   "cell_type": "markdown",
   "metadata": {},
   "source": [
    "# 分割"
   ]
  },
  {
   "cell_type": "code",
   "execution_count": 22,
   "metadata": {},
   "outputs": [
    {
     "data": {
      "text/plain": [
       "'{\"meg\": \"\\\\u6570\\\\u636e\\\\u5904\\\\u7406\\\\u5b8c\\\\u6210\\\\uff01\", \"status\": true}'"
      ]
     },
     "execution_count": 22,
     "metadata": {},
     "output_type": "execute_result"
    }
   ],
   "source": [
    "r = requests.get('http://172.24.21.239:5000/analyse', json={'uid': 'p1'})\n",
    "r.text"
   ]
  },
  {
   "cell_type": "markdown",
   "metadata": {},
   "source": [
    "# 上传文件"
   ]
  },
  {
   "cell_type": "code",
   "execution_count": 81,
   "metadata": {},
   "outputs": [
    {
     "data": {
      "text/plain": [
       "'{\"meg\": \"\\\\u6570\\\\u636e\\\\u4e0a\\\\u4f20\\\\u6210\\\\u529f\\\\uff01\", \"status\": true}'"
      ]
     },
     "execution_count": 81,
     "metadata": {},
     "output_type": "execute_result"
    }
   ],
   "source": [
    "r = requests.post('http://172.24.21.239:5000/uploader', data={'uid': 'p0'}, files={'t1': open('/home/oneran/Desktop/p0_t1.nii.gz', 'rb'), 't2': open('/home/oneran/Desktop/p0_t2.nii.gz', 'rb'), 't1ce': open('/home/oneran/Desktop/p0_t1ce.nii.gz', 'rb'), 'flair': open('/home/oneran/Desktop/p0_flair.nii.gz', 'rb')})\n",
    "r.text"
   ]
  },
  {
   "cell_type": "markdown",
   "metadata": {},
   "source": [
    "# 医生注册"
   ]
  },
  {
   "cell_type": "code",
   "execution_count": 30,
   "metadata": {},
   "outputs": [
    {
     "data": {
      "text/plain": [
       "{'msg': '注册成功！', 'status': True}"
      ]
     },
     "execution_count": 30,
     "metadata": {},
     "output_type": "execute_result"
    }
   ],
   "source": [
    "r = requests.post('http://172.24.21.239:5000/register', json={'account': '熊猫头1','passwd':123456, 'name': '王旭东',  'account_type': 'doctor'})\n",
    "r.text\n",
    "j=json.loads(r.text)\n",
    "j"
   ]
  },
  {
   "cell_type": "markdown",
   "metadata": {},
   "source": [
    "# 病人注册"
   ]
  },
  {
   "cell_type": "code",
   "execution_count": 31,
   "metadata": {},
   "outputs": [
    {
     "data": {
      "text/plain": [
       "{'msg': '注册成功！', 'status': True}"
      ]
     },
     "execution_count": 31,
     "metadata": {},
     "output_type": "execute_result"
    }
   ],
   "source": [
    "r = requests.post('http://172.24.21.239:5000/register', json={'account': ' Lisi123', 'passwd': '123456', 'name': '李四', 'age': 20, 'account_type': 'patient', 'doctor_name': '王旭东'})\n",
    "r.text\n",
    "j=json.loads(r.text)\n",
    "j"
   ]
  },
  {
   "cell_type": "markdown",
   "metadata": {},
   "source": [
    "# 医生登录"
   ]
  },
  {
   "cell_type": "code",
   "execution_count": 4,
   "metadata": {},
   "outputs": [
    {
     "data": {
      "text/plain": [
       "{'msg': '登录成功！', 'status': True, 'uid': 'd0'}"
      ]
     },
     "execution_count": 4,
     "metadata": {},
     "output_type": "execute_result"
    }
   ],
   "source": [
    "r = requests.post('http://172.24.21.239:5000/login', json={'account': '熊猫头', 'passwd': '123456', 'account_type': 'doctor'})\n",
    "r.text\n",
    "j=json.loads(r.text)\n",
    "j\n"
   ]
  },
  {
   "cell_type": "code",
   "execution_count": 28,
   "metadata": {},
   "outputs": [
    {
     "data": {
      "text/plain": [
       "{'msg': 'account 不存在！', 'status': False}"
      ]
     },
     "execution_count": 28,
     "metadata": {},
     "output_type": "execute_result"
    }
   ],
   "source": [
    "r = requests.post('http://172.24.21.239:5000/update_info', json={'account': '熊猫头123', 'account_type': 'doctor', 'age': 20, 'uid': 'd0'})\n",
    "r.json()"
   ]
  },
  {
   "cell_type": "markdown",
   "metadata": {},
   "source": [
    "# 上传pdf"
   ]
  },
  {
   "cell_type": "code",
   "execution_count": 6,
   "metadata": {},
   "outputs": [
    {
     "data": {
      "text/plain": [
       "{'meg': '数据上传成功！', 'status': True}"
      ]
     },
     "execution_count": 6,
     "metadata": {},
     "output_type": "execute_result"
    }
   ],
   "source": [
    "r = requests.post('http://172.24.21.239:5000/export_pdf', data={'uid': 'p0'}, files={'pdf': open('D:/AI/Brain-Tumor-Segmentation/532-张三三.pdf', 'rb')})\n",
    "r.json()"
   ]
  },
  {
   "cell_type": "code",
   "execution_count": null,
   "metadata": {},
   "outputs": [],
   "source": []
  }
 ],
 "metadata": {
  "interpreter": {
   "hash": "5b3ded1ccb95c1d9bd405e7b823d9e85424cde40fbb5985eb47e999ef50e15b4"
  },
  "kernelspec": {
   "display_name": "Python 3.8.13 64-bit",
   "language": "python",
   "name": "python3"
  },
  "language_info": {
   "codemirror_mode": {
    "name": "ipython",
    "version": 3
   },
   "file_extension": ".py",
   "mimetype": "text/x-python",
   "name": "python",
   "nbconvert_exporter": "python",
   "pygments_lexer": "ipython3",
   "version": "3.8.13"
  },
  "orig_nbformat": 4
 },
 "nbformat": 4,
 "nbformat_minor": 2
}
